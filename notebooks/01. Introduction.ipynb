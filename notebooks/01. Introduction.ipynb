{
 "cells": [
  {
   "cell_type": "markdown",
   "id": "noble-bahamas",
   "metadata": {},
   "source": [
    "# 01. Introduction #\n",
    "\n",
    "## 01. A few useful shortcuts ##\n",
    "\n",
    "When I write (ESC, m) it means pressing the ESCAPE key followed by m (lower case one). Writing (SHIFT+ENTER) means pressing SHIFT, holding it down and while holding it, pressing ENTER. The first key is first pressed.\n",
    "\n",
    "(ENTER) - you can start editing the content of that cell\n",
    "(ESC) - exits from cell editing\n",
    "(SHIFT+ENTER) - runs the current cell - eyther runs the code or makes the text nice\n",
    "(ESC, a) - creates a new cell above the current one\n",
    "(ESC, b) - creates a new cell below the current one\n",
    "(ESC, d, d) - deletes the current cell\n",
    "(ESC, 0, 0) - restarts the kernel\n",
    "\n",
    "\n",
    "## 02. Markdown Boxes (ESC, m)##\n",
    "\n",
    "Hi! This is Jupyter Notebook. A small program that allows you to run Python code interactively and mix it with nicely formated explanations that use something called markdown - same as in .md files.\n",
    "\n",
    "You can very easy create bulet lists:\n",
    "- item 1\n",
    "- item 2\n",
    "\n",
    "Or numbered lists:\n",
    "1. item 1\n",
    "2. item 2\n",
    "\n",
    "To write **bold text** or *italic*. Add links [yes, this is a link for the markdown cheatsheat](https://github.com/adam-p/markdown-here/wiki/Markdown-Cheatsheet). Embed images:\n",
    "\n",
    "![the python logo](https://upload.wikimedia.org/wikipedia/commons/thumb/f/f8/Python_logo_and_wordmark.svg/250px-Python_logo_and_wordmark.svg.png)\n",
    "\n",
    "Or even embed pieces of code:\n",
    "```python\n",
    "for i in range(1, 10):\n",
    "    print(i,'x',i,'=',i*i)\n",
    "```\n",
    "\n",
    "## 03. Code Boxes (ESC, y) ##"
   ]
  },
  {
   "cell_type": "code",
   "execution_count": 1,
   "id": "protecting-turkish",
   "metadata": {},
   "outputs": [
    {
     "name": "stdout",
     "output_type": "stream",
     "text": [
      "1 x 1 = 1\n",
      "2 x 2 = 4\n",
      "3 x 3 = 9\n",
      "4 x 4 = 16\n",
      "5 x 5 = 25\n",
      "6 x 6 = 36\n",
      "7 x 7 = 49\n",
      "8 x 8 = 64\n",
      "9 x 9 = 81\n"
     ]
    }
   ],
   "source": [
    "# Maybe you want to see what those line of code produce, so let's copy/paste them here\n",
    "\n",
    "for i in range(1, 10):\n",
    "    print(i,'x',i,'=',i*i)"
   ]
  },
  {
   "cell_type": "markdown",
   "id": "applied-account",
   "metadata": {},
   "source": [
    "## 04. Notes on Notebooks ##\n",
    "\n",
    "Always use **File** -> **Close and Halt** to exit a notebook. Never leave it running as it will consume system resources. Saving the notebooks happens automatically, but if you really want to be saved, press (ESC, CTRL+S).\n",
    "\n",
    "When you've finished working with the Jupyter Notebook, remember to **Quit** the notebook.\n",
    "\n",
    "Yes, and to always have the latest version, after logging in to your Raspberry Pi issue the following commands:\n",
    "\n",
    "```bash\n",
    "pi@aiberry:~ $ cd DataScience\n",
    "pi@aiberry:~ $ git fetch --all"
   ]
  }
 ],
 "metadata": {
  "kernelspec": {
   "display_name": "python-opencv",
   "language": "python",
   "name": "python-opencv"
  },
  "language_info": {
   "codemirror_mode": {
    "name": "ipython",
    "version": 3
   },
   "file_extension": ".py",
   "mimetype": "text/x-python",
   "name": "python",
   "nbconvert_exporter": "python",
   "pygments_lexer": "ipython3",
   "version": "3.7.3"
  }
 },
 "nbformat": 4,
 "nbformat_minor": 5
}

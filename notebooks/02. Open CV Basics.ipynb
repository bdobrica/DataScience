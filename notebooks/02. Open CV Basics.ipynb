{
 "cells": [
  {
   "cell_type": "markdown",
   "id": "pharmaceutical-address",
   "metadata": {},
   "source": [
    "## Open CV Basics ##\n",
    "\n",
    "Install the required libraries for the current kernel:\n",
    "- **opencv-contrib-python==4.1.0.25**, a library that allows capturing and processing of images; this is the only version that installs correctly on Raspian, the OS running on Raspberry PI;\n",
    "- **matplotlib**, a library that allows displaying charts or images;\n",
    "After the first run of the below cell, you have to restart the kernel and run it again. Press double-0 to restart the kernel."
   ]
  },
  {
   "cell_type": "code",
   "execution_count": null,
   "id": "legislative-yukon",
   "metadata": {},
   "outputs": [],
   "source": [
    "import sys\n",
    "!{sys.executable} -m pip install opencv-contrib-python==4.1.0.25\n",
    "!{sys.executable} -m pip install matplotlib"
   ]
  },
  {
   "cell_type": "code",
   "execution_count": null,
   "id": "colonial-nebraska",
   "metadata": {},
   "outputs": [],
   "source": [
    "import cv2 # loading the opencv module to allow video capturing and image processing\n",
    "import matplotlib.pyplot as plt # loading the module that displays charts or images\n",
    "\n",
    "video = cv2.VideoCapture(0)\n",
    "success, frame = video.read()\n",
    "frame_rgb = cv2.cvtColor(frame, cv2.COLOR_BGR2RGB)\n",
    "plt.imshow(frame_rgb)\n",
    "video.release()"
   ]
  },
  {
   "cell_type": "markdown",
   "id": "independent-merit",
   "metadata": {},
   "source": [
    "## Viewing the live feed ##"
   ]
  },
  {
   "cell_type": "code",
   "execution_count": null,
   "id": "statutory-category",
   "metadata": {
    "scrolled": false
   },
   "outputs": [],
   "source": [
    "import time # load the time module; i'll use it here only for the sleep function\n",
    "import IPython # load the IPython modules; this gives access to low level Jupyter Notebook functions\n",
    "\n",
    "video = cv2.VideoCapture(0) # initialize the video capturing device\n",
    "try:\n",
    "    success = True # use this variable to check if the frame was captured successfully\n",
    "    while success: # loop until the device cannot capture a frame\n",
    "        success, frame = video.read() # read a frame\n",
    "        _, jpeg_image = cv2.imencode('.jpeg', frame) # encodes an image into a memory buffer\n",
    "        raw_image = IPython.display.Image(data = jpeg_image) # creates an IPython image given the raw data\n",
    "        IPython.display.clear_output(True) # clears the output of this cell, waiting until other data is available\n",
    "        IPython.display.display(raw_image) # display the IPython image into the notebook\n",
    "        time.sleep(0.2) # wait 0.2 seconds\n",
    "except KeyboardInterrupt: # if stop was pressed (or CTRL+C in the console)\n",
    "    pass # do nothing\n",
    "finally: # but anyway, if it was pressed or not\n",
    "    video.release() # release the video capturing device"
   ]
  },
  {
   "cell_type": "markdown",
   "id": "atlantic-percentage",
   "metadata": {},
   "source": [
    "## Let's do some face detection ##\n",
    "\n",
    "Download the machine learning model:"
   ]
  },
  {
   "cell_type": "code",
   "execution_count": null,
   "id": "powerful-weapon",
   "metadata": {},
   "outputs": [],
   "source": [
    "!wget https://raw.githubusercontent.com/opencv/opencv/master/data/haarcascades/haarcascade_frontalface_default.xml"
   ]
  },
  {
   "cell_type": "markdown",
   "id": "funded-danger",
   "metadata": {},
   "source": [
    "Wrap the model in a function for easy using:"
   ]
  },
  {
   "cell_type": "code",
   "execution_count": null,
   "id": "streaming-aurora",
   "metadata": {},
   "outputs": [],
   "source": [
    "faceCascade = cv2.CascadeClassifier('haarcascade_frontalface_default.xml') # load the ML model\n",
    "\n",
    "def detect_faces(frame):\n",
    "    gray = cv2.cvtColor(frame, cv2.COLOR_BGR2GRAY) # convert the frame in gray-scale\n",
    "    faces = faceCascade.detectMultiScale( # the face detector\n",
    "        gray, # gray-scale image\n",
    "        scaleFactor = 1.1, # how much the image size is reduced at each scale\n",
    "        minNeighbors = 5, # how many neighbours should a detected rectangle keep \n",
    "        minSize = (30, 30) # the minimum size of a detected object\n",
    "    )\n",
    "    return faces"
   ]
  },
  {
   "cell_type": "code",
   "execution_count": null,
   "id": "silent-kansas",
   "metadata": {},
   "outputs": [],
   "source": [
    "faces = detect_faces(frame)"
   ]
  },
  {
   "cell_type": "code",
   "execution_count": null,
   "id": "crude-parliament",
   "metadata": {},
   "outputs": [],
   "source": [
    "faces"
   ]
  },
  {
   "cell_type": "markdown",
   "id": "robust-summit",
   "metadata": {},
   "source": [
    "Let's put a rectangle over the detected faces:"
   ]
  },
  {
   "cell_type": "code",
   "execution_count": null,
   "id": "decimal-frame",
   "metadata": {},
   "outputs": [],
   "source": [
    "x, y, w, h = faces[0]\n",
    "frame_rgb_copy = frame_rgb.copy()\n",
    "cv2.rectangle(frame_rgb_copy, (x, y), (x+w, y+h), (0, 255, 0), 2)\n",
    "plt.imshow(frame_rgb_copy)"
   ]
  },
  {
   "cell_type": "code",
   "execution_count": null,
   "id": "national-branch",
   "metadata": {},
   "outputs": [],
   "source": []
  }
 ],
 "metadata": {
  "kernelspec": {
   "display_name": "python-opencv",
   "language": "python",
   "name": "python-opencv"
  },
  "language_info": {
   "codemirror_mode": {
    "name": "ipython",
    "version": 3
   },
   "file_extension": ".py",
   "mimetype": "text/x-python",
   "name": "python",
   "nbconvert_exporter": "python",
   "pygments_lexer": "ipython3",
   "version": "3.7.3"
  }
 },
 "nbformat": 4,
 "nbformat_minor": 5
}

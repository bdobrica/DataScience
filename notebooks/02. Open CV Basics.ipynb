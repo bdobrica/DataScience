{
 "cells": [
  {
   "cell_type": "markdown",
   "id": "failing-republic",
   "metadata": {},
   "source": [
    "## Intro ##\n",
    "\n",
    "While the focus of this notebook is to detect a face in a picture, I'll also try to cover some basics, to get a better understanding of Python.\n",
    "\n",
    "### Running Terminal Commands ###\n",
    "\n",
    "This Jupyter Notebook is so cool that allows you to run terminal commands directly in its cells. To run a command, just open a new cell and put a `!` (exclamation mark) just in front of the row, like this:"
   ]
  },
  {
   "cell_type": "code",
   "execution_count": null,
   "id": "bulgarian-living",
   "metadata": {},
   "outputs": [],
   "source": [
    "!mkdir bogdan\n",
    "!touch bogdan/dobrica.py"
   ]
  },
  {
   "cell_type": "markdown",
   "id": "conventional-casting",
   "metadata": {},
   "source": [
    "- The first command has creates a folder named `bogdan` in same folder as this notebook, as `mkdir` comes from `make directory` (directory = folder).\n",
    "- The second command created an empty python script file, named `dobrica.py` inside the `bogdan` folder. Actually, the `touch` command means *change the date & time of the file passed as argument, but if the file doesn't exist create a new one*."
   ]
  },
  {
   "cell_type": "markdown",
   "id": "beautiful-smell",
   "metadata": {},
   "source": [
    "### Modules ###\n",
    "\n",
    "Modules are pieces of software written by others that we can reuse and do things the lazy way. Actually, a module is usually a folder that contains some python scripts. Let me show you. Remember the previous folder and file we've just created? You can use them as (useless) modules in this notebook:"
   ]
  },
  {
   "cell_type": "code",
   "execution_count": null,
   "id": "intended-archives",
   "metadata": {},
   "outputs": [],
   "source": [
    "from bogdan import dobrica"
   ]
  },
  {
   "cell_type": "markdown",
   "id": "immediate-elizabeth",
   "metadata": {},
   "source": [
    "You can check if the module is loaded correctly using the `dir` function applied directly on the name of the module. It will show whatever the module contains."
   ]
  },
  {
   "cell_type": "code",
   "execution_count": null,
   "id": "automated-egyptian",
   "metadata": {},
   "outputs": [],
   "source": [
    "dir(dobrica)"
   ]
  },
  {
   "cell_type": "markdown",
   "id": "micro-malta",
   "metadata": {},
   "source": [
    "Whoa! Even useless modules have things inside. Those are put there by default and you can access them with dots, like this:"
   ]
  },
  {
   "cell_type": "code",
   "execution_count": null,
   "id": "surrounded-single",
   "metadata": {},
   "outputs": [],
   "source": [
    "dobrica.__file__"
   ]
  },
  {
   "cell_type": "markdown",
   "id": "cubic-oxford",
   "metadata": {},
   "source": [
    "Last, let's make the `dobrica` module do something. Let's edit the file and add a variable inside. You can use the Jupyter Notebook editor for adding this line in `dobrica.py` file:\n",
    "```python\n",
    "is_doing = 'good'\n",
    "```\n",
    "Unfortunately, modules are cached. So to see if the change works, now it's the time to restart the `Kernel` in Jupyter Notebook."
   ]
  },
  {
   "cell_type": "code",
   "execution_count": null,
   "id": "alone-enlargement",
   "metadata": {},
   "outputs": [],
   "source": [
    "from bogdan import dobrica\n",
    "dir(dobrica)"
   ]
  },
  {
   "cell_type": "markdown",
   "id": "surface-founder",
   "metadata": {},
   "source": [
    "Already `is_doing` appears in the list. You can call it by using the dot:"
   ]
  },
  {
   "cell_type": "code",
   "execution_count": null,
   "id": "declared-target",
   "metadata": {},
   "outputs": [],
   "source": [
    "dobrica.is_doing"
   ]
  },
  {
   "cell_type": "markdown",
   "id": "moving-speech",
   "metadata": {},
   "source": [
    "### Some Programming Basics ###\n",
    "\n",
    "Any computer program can be written knowing just a few simple things.\n",
    "\n",
    "**Firstly**, how to get things out of a program. And in Python this is done with `print`:"
   ]
  },
  {
   "cell_type": "code",
   "execution_count": null,
   "id": "heated-genetics",
   "metadata": {},
   "outputs": [],
   "source": [
    "print(a) # will output 1 on a line\n",
    "print(a, name) # will output 1 followed by a space (,) and then bogdan"
   ]
  },
  {
   "cell_type": "markdown",
   "id": "liked-terrorist",
   "metadata": {},
   "source": [
    "**Secondly**, how to assign a variable. Variable are names for places in memory where data is stored. Knowing the name is more convenient than knowing the exact address."
   ]
  },
  {
   "cell_type": "code",
   "execution_count": null,
   "id": "bronze-handbook",
   "metadata": {},
   "outputs": [],
   "source": [
    "a = 1           # here \"a\" will point to a memory zone\n",
    "                # that contains the number 1\n",
    "name = 'bogdan' # here \"name\" will point to a memory zone\n",
    "                # that contains the string 'bogdan'"
   ]
  },
  {
   "cell_type": "markdown",
   "id": "overall-index",
   "metadata": {},
   "source": [
    "**Thirdly**, how to get things in from outside a program. Good programmers always load things from files. Here's how to do that:"
   ]
  },
  {
   "cell_type": "code",
   "execution_count": null,
   "id": "toxic-indicator",
   "metadata": {},
   "outputs": [],
   "source": [
    "fp = open('bogdan/dobrica.py', 'r') # open the specified file for reading\n",
    "print(fp.read()) # read the whole content of the file\n",
    "fp.close() # don't forget to close the file"
   ]
  },
  {
   "cell_type": "markdown",
   "id": "residential-spanking",
   "metadata": {},
   "source": [
    "**Fourthly**, how to check conditions. This will allow you to make decisions inside a computer program."
   ]
  },
  {
   "cell_type": "code",
   "execution_count": null,
   "id": "stock-plymouth",
   "metadata": {},
   "outputs": [],
   "source": [
    "if name == 'bogdan':\n",
    "    print('Oh! Bogdan! I know you!')\n",
    "else:\n",
    "    print('I though your name is Bogdan!')"
   ]
  },
  {
   "cell_type": "markdown",
   "id": "julian-destiny",
   "metadata": {},
   "source": [
    "And last, **fifthly**, how to loop through things. While usually you would use a `for` for this, `while` is way more flexible. Here's how to use it:"
   ]
  },
  {
   "cell_type": "code",
   "execution_count": null,
   "id": "indie-nebraska",
   "metadata": {},
   "outputs": [],
   "source": [
    "a = 0\n",
    "while a < 10:\n",
    "    print(a, 'x', a, '=', a*a)\n",
    "    a = a + 1"
   ]
  },
  {
   "cell_type": "markdown",
   "id": "approved-willow",
   "metadata": {},
   "source": [
    "### A few things about lists ###\n",
    "\n",
    "Lists are cool cause you can store lots of things, neatly packed and point to that with a single name. In python, you can use `[]` to define a list."
   ]
  },
  {
   "cell_type": "code",
   "execution_count": null,
   "id": "cellular-convention",
   "metadata": {},
   "outputs": [],
   "source": [
    "a_list = [] # this is an empty list\n",
    "b_list = [1,2,3] # this is a list of numbers\n",
    "c_list = ['andrei', 'bogdan', 'cristi'] # this is a list of strings\n",
    "d_list = [1, 2, 'bogdan'] # this is a mixed list\n",
    "e_list = [a_list, b_list, c_list] # this is a list of lists"
   ]
  },
  {
   "cell_type": "code",
   "execution_count": null,
   "id": "liked-anxiety",
   "metadata": {},
   "outputs": [],
   "source": [
    "c_list"
   ]
  },
  {
   "cell_type": "markdown",
   "id": "fleet-halloween",
   "metadata": {},
   "source": [
    "One of the cool things with lists is that you can `splice` them. This means you can access just part of the list very easy. Here are some nifty examples:"
   ]
  },
  {
   "cell_type": "code",
   "execution_count": null,
   "id": "wireless-shannon",
   "metadata": {},
   "outputs": [],
   "source": [
    "c_list[0:2] # get the elements between the first (0)\n",
    "            # to but not including the third (2)"
   ]
  },
  {
   "cell_type": "code",
   "execution_count": null,
   "id": "starting-snake",
   "metadata": {},
   "outputs": [],
   "source": [
    "c_list[1:] # get the elements between the second (1)\n",
    "           # to the last one (empty)"
   ]
  },
  {
   "cell_type": "code",
   "execution_count": null,
   "id": "alive-breeding",
   "metadata": {},
   "outputs": [],
   "source": [
    "c_list[:2] # get the elements between the first one (empty)\n",
    "           # to the third one (2)"
   ]
  },
  {
   "cell_type": "code",
   "execution_count": null,
   "id": "conceptual-january",
   "metadata": {},
   "outputs": [],
   "source": [
    "c_list[::2] # get the elements between the first one (empty)\n",
    "            # to the last one (empty), but going from 2 to 2"
   ]
  },
  {
   "cell_type": "code",
   "execution_count": null,
   "id": "governing-malta",
   "metadata": {},
   "outputs": [],
   "source": [
    "c_list[:-1] # get the elements between the first one (empty)\n",
    "            # to the first from last (-1)"
   ]
  },
  {
   "cell_type": "code",
   "execution_count": null,
   "id": "induced-credit",
   "metadata": {},
   "outputs": [],
   "source": [
    "c_list[::-1] # get the elements between the first one (empty)\n",
    "             # to the last one (empty), but with counting backwards"
   ]
  },
  {
   "cell_type": "markdown",
   "id": "promotional-accessory",
   "metadata": {},
   "source": [
    "You can change an element of a list like this:"
   ]
  },
  {
   "cell_type": "code",
   "execution_count": null,
   "id": "distinct-commodity",
   "metadata": {},
   "outputs": [],
   "source": [
    "c_list[0] = 'dan' # change the last element to 'dan'\n",
    "c_list"
   ]
  },
  {
   "cell_type": "code",
   "execution_count": null,
   "id": "existing-poultry",
   "metadata": {},
   "outputs": [],
   "source": [
    "c_list[0:2] = ['a', 'b'] # or do it for first two elements at a time\n",
    "c_list"
   ]
  },
  {
   "cell_type": "markdown",
   "id": "empty-going",
   "metadata": {},
   "source": [
    "You can append new elements to a list with:"
   ]
  },
  {
   "cell_type": "code",
   "execution_count": null,
   "id": "formed-antibody",
   "metadata": {},
   "outputs": [],
   "source": [
    "c_list.append('dan')\n",
    "c_list"
   ]
  },
  {
   "cell_type": "markdown",
   "id": "sealed-conviction",
   "metadata": {},
   "source": [
    "Or remove an element from a list with:"
   ]
  },
  {
   "cell_type": "code",
   "execution_count": null,
   "id": "southeast-commerce",
   "metadata": {},
   "outputs": [],
   "source": [
    "del(c_list[0])\n",
    "c_list"
   ]
  },
  {
   "cell_type": "markdown",
   "id": "eastern-clear",
   "metadata": {},
   "source": [
    "You can merge two lists, using `+`:"
   ]
  },
  {
   "cell_type": "code",
   "execution_count": null,
   "id": "published-given",
   "metadata": {},
   "outputs": [],
   "source": [
    "f_list = b_list + c_list\n",
    "f_list"
   ]
  },
  {
   "cell_type": "markdown",
   "id": "negative-vegetarian",
   "metadata": {},
   "source": [
    "And multiply lists with numbers like this:"
   ]
  },
  {
   "cell_type": "code",
   "execution_count": null,
   "id": "suspended-coach",
   "metadata": {},
   "outputs": [],
   "source": [
    "g_list = c_list * 3\n",
    "g_list"
   ]
  },
  {
   "cell_type": "markdown",
   "id": "unlikely-rochester",
   "metadata": {},
   "source": [
    "Also, you can unpack lists like this:"
   ]
  },
  {
   "cell_type": "code",
   "execution_count": null,
   "id": "pretty-senegal",
   "metadata": {},
   "outputs": [],
   "source": [
    "a, b, c = b_list\n",
    "print(a, b, c)"
   ]
  },
  {
   "cell_type": "markdown",
   "id": "pharmaceutical-address",
   "metadata": {},
   "source": [
    "### Open CV Basics ###\n",
    "\n",
    "Install the required libraries for the current kernel:\n",
    "- **opencv-contrib-python==4.1.0.25**, a library that allows capturing and processing of images; this is the only version that installs correctly on Raspian, the OS running on Raspberry PI;\n",
    "- **matplotlib**, a library that allows displaying charts or images;\n",
    "After the first run of the below cell, you have to restart the kernel and run it again.\n",
    "\n",
    "You need to restart the Kernel for this to work so press double-0."
   ]
  },
  {
   "cell_type": "code",
   "execution_count": null,
   "id": "legislative-yukon",
   "metadata": {},
   "outputs": [],
   "source": [
    "import sys\n",
    "!{sys.executable} -m pip install opencv-contrib-python==4.1.0.25\n",
    "!{sys.executable} -m pip install matplotlib\n",
    "!{sys.executable} -m pip install dlib"
   ]
  },
  {
   "cell_type": "markdown",
   "id": "organic-champagne",
   "metadata": {},
   "source": [
    "To check that everything worked ok, first let's try to get an image from the camera. For this, we need to load the `cv2` module (actually, the short-lazy name for `opencv-contrib-python`) - which allows us to capture and process images from the camera and the `matplotlib.pyplot` module which allows displaying images.\n",
    "\n",
    "Remember from last-time, that we used `cv2.VideoCapture(0)` to initialize the camera and all the things that allows us to capture an image from the webcam and we used the `read()` function on the obtained object to read a status and a frame in BGR format (meaning, pixels are stored as blue-green-red order).\n",
    "\n",
    "Because images are usually processed as red-green-blue, we use the OpenCV `cvtColor` function which converts an image from a color format to another. We'll use `cv2.COLOR_BGR2RGB` to convert from blue-green-red to red-green-blue.\n",
    "\n",
    "Here's how:"
   ]
  },
  {
   "cell_type": "code",
   "execution_count": null,
   "id": "colonial-nebraska",
   "metadata": {},
   "outputs": [],
   "source": [
    "import cv2 # loading the opencv module to allow video capturing and image processing\n",
    "import matplotlib.pyplot as plt # loading the module that displays charts or images\n",
    "\n",
    "video = cv2.VideoCapture(0) # initialize the Raspberry Pi Camera\n",
    "success, frame = video.read() # read a frame from the camera\n",
    "frame_rgb = cv2.cvtColor(frame, cv2.COLOR_BGR2RGB) # convert the frame to RGB\n",
    "plt.imshow(frame_rgb) # display the image\n",
    "video.release() # release the Raspberry Pi Camera"
   ]
  },
  {
   "cell_type": "markdown",
   "id": "determined-daily",
   "metadata": {},
   "source": [
    "You should run the above cell until you get a nice picture of your face for the next steps. To save that picture as I'd like to show how you can play with it, I'll make a copy:"
   ]
  },
  {
   "cell_type": "code",
   "execution_count": null,
   "id": "unusual-counter",
   "metadata": {},
   "outputs": [],
   "source": [
    "frame_copy = frame_rgb.copy()"
   ]
  },
  {
   "cell_type": "markdown",
   "id": "colored-cattle",
   "metadata": {},
   "source": [
    "Now, you can think of this image as a 3D list. You have width, you have height but you also have depth - that is, color depth, red-green-blue. So all things from lists apply. For example, you can fill with white a square in the top-left corner like this:"
   ]
  },
  {
   "cell_type": "code",
   "execution_count": null,
   "id": "capable-reggae",
   "metadata": {},
   "outputs": [],
   "source": [
    "frame_copy[0:250,0:250,:] = [ 255, 255, 255 ] # red = 255, green = 255, blue = 255\n",
    "plt.imshow(frame_copy) # let's display the image"
   ]
  },
  {
   "cell_type": "markdown",
   "id": "billion-distribution",
   "metadata": {},
   "source": [
    "To put a square in the bottom-left corner - I choosed this one as it's a little harder, is like this:"
   ]
  },
  {
   "cell_type": "code",
   "execution_count": null,
   "id": "innovative-western",
   "metadata": {},
   "outputs": [],
   "source": [
    "frame_copy[-250:,0:250,:] = [ 255, 0, 255 ] # red = 255, green = 255, blue = 255\n",
    "plt.imshow(frame_copy) # let's display the image"
   ]
  },
  {
   "cell_type": "markdown",
   "id": "independent-merit",
   "metadata": {},
   "source": [
    "### Viewing the live feed ###\n",
    "\n",
    "This is a cool thing I though I'd show and it allows me to demonstrate some other modules from Python.\n",
    "\n",
    "But first, let's talk a little about **exceptions**. So, when something bad happens in code, an exception is said to be thrown. The simples example is dividing something to zero. Let's see the exception:"
   ]
  },
  {
   "cell_type": "code",
   "execution_count": null,
   "id": "included-admission",
   "metadata": {},
   "outputs": [],
   "source": [
    "a = 2\n",
    "b = 0\n",
    "print(a/b)"
   ]
  },
  {
   "cell_type": "markdown",
   "id": "random-daily",
   "metadata": {},
   "source": [
    "Sometimes is not cool to have this kind of errors. So we can **catch** them and tackle them in code. Like this:"
   ]
  },
  {
   "cell_type": "code",
   "execution_count": null,
   "id": "unique-hormone",
   "metadata": {},
   "outputs": [],
   "source": [
    "try:\n",
    "    c = a / b\n",
    "except:\n",
    "    print('Are you nuts?! You can\\'t divide', a, 'to', b)"
   ]
  },
  {
   "cell_type": "markdown",
   "id": "pleased-dublin",
   "metadata": {},
   "source": [
    "So why did I talked about this exceptions? Well, remember **CTRL+C** that stops a program when running? The same thing happens when in a running cell you press **stop**. So this will generate an exception that we can catch and exit gracefully from the program.\n",
    "\n",
    "We need this, cause if we want to display a live feed from the camera, we need an infinite loop that we can interrupt by pressing **CTRL+C**."
   ]
  },
  {
   "cell_type": "code",
   "execution_count": null,
   "id": "statutory-category",
   "metadata": {
    "scrolled": false
   },
   "outputs": [],
   "source": [
    "import time # load the time module; i'll use it here only for the sleep function\n",
    "import IPython # load the IPython modules; this gives access to low level Jupyter Notebook functions\n",
    "\n",
    "video = cv2.VideoCapture(0) # initialize the video capturing device\n",
    "try:\n",
    "    success = True # use this variable to check if the frame was captured successfully\n",
    "    while success: # loop until the device cannot capture a frame\n",
    "        success, frame = video.read() # read a frame\n",
    "        _, jpeg_image = cv2.imencode('.jpeg', frame) # encodes an image into a memory buffer\n",
    "        raw_image = IPython.display.Image(data = jpeg_image) # creates an IPython image given the raw data\n",
    "        IPython.display.clear_output(True) # clears the output of this cell, waiting until other data is available\n",
    "        IPython.display.display(raw_image) # display the IPython image into the notebook\n",
    "        time.sleep(0.2) # wait 0.2 seconds\n",
    "except KeyboardInterrupt: # if stop was pressed (or CTRL+C in the console)\n",
    "    pass # do nothing\n",
    "finally: # but anyway, if it was pressed or not\n",
    "    video.release() # release the video capturing device"
   ]
  },
  {
   "cell_type": "markdown",
   "id": "atlantic-percentage",
   "metadata": {},
   "source": [
    "### Let's do some face detection ###\n",
    "\n",
    "Doing face detection requires a machine learning model. This one that I'll use is called (Haar Cascade Classifier)[https://opencv-python-tutroals.readthedocs.io/en/latest/py_tutorials/py_objdetect/py_face_detection/py_face_detection.html] and is almost embeded in the OpenCV. I say almost embedded as you need to download the model from their GitHub repository. Luckly we can run commands in the cells.\n",
    "\n",
    "Download the machine learning model:"
   ]
  },
  {
   "cell_type": "code",
   "execution_count": null,
   "id": "powerful-weapon",
   "metadata": {},
   "outputs": [],
   "source": [
    "!wget https://raw.githubusercontent.com/opencv/opencv/master/data/haarcascades/haarcascade_frontalface_default.xml"
   ]
  },
  {
   "cell_type": "markdown",
   "id": "nominated-instrumentation",
   "metadata": {},
   "source": [
    "This used the **wget** command which comes from **world wide web get** and which downloads things from the internet.\n",
    "\n",
    "Now, I need to load the downloaded model:"
   ]
  },
  {
   "cell_type": "code",
   "execution_count": null,
   "id": "commercial-washer",
   "metadata": {},
   "outputs": [],
   "source": [
    "face_cascade = cv2.CascadeClassifier('haarcascade_frontalface_default.xml') # load the ML model"
   ]
  },
  {
   "cell_type": "markdown",
   "id": "removed-progress",
   "metadata": {},
   "source": [
    "The classifier can be invoked on a gray-scale image using the `detectMultiScale` method, which for convenience I'll put in a wrapper."
   ]
  },
  {
   "cell_type": "code",
   "execution_count": null,
   "id": "streaming-aurora",
   "metadata": {},
   "outputs": [],
   "source": [
    "def detect_faces(frame):\n",
    "    gray = cv2.cvtColor(frame, cv2.COLOR_BGR2GRAY) # convert the frame in gray-scale\n",
    "    faces = face_cascade.detectMultiScale( # the face detector\n",
    "        gray, # gray-scale image\n",
    "        scaleFactor = 1.1, # how much the image size is reduced at each scale\n",
    "        minSize = (30, 30) # the minimum size of a detected object\n",
    "    )\n",
    "    return faces"
   ]
  },
  {
   "cell_type": "markdown",
   "id": "wrong-costa",
   "metadata": {},
   "source": [
    "And now I can use it simple, like below and will return a list of rectangles bounding all the faces in a picture."
   ]
  },
  {
   "cell_type": "code",
   "execution_count": null,
   "id": "silent-kansas",
   "metadata": {},
   "outputs": [],
   "source": [
    "faces = detect_faces(frame_rgb) # get the list of rectangles bounding faces\n",
    "faces"
   ]
  },
  {
   "cell_type": "code",
   "execution_count": null,
   "id": "celtic-relation",
   "metadata": {},
   "outputs": [],
   "source": [
    "for face in faces:\n",
    "    print(face)"
   ]
  },
  {
   "cell_type": "markdown",
   "id": "robust-summit",
   "metadata": {},
   "source": [
    "Let's put a rectangle over the detected faces:"
   ]
  },
  {
   "cell_type": "code",
   "execution_count": null,
   "id": "decimal-frame",
   "metadata": {},
   "outputs": [],
   "source": [
    "x, y, w, h = faces[0] # unwrap the list\n",
    "frame_rgb_copy = frame_rgb.copy() # make a copy of the image\n",
    "cv2.rectangle(frame_rgb_copy, (x, y), (x+w, y+h), (0, 255, 0), 2) # draw the rectangle\n",
    "plt.imshow(frame_rgb_copy) # display the image"
   ]
  },
  {
   "cell_type": "markdown",
   "id": "animal-porter",
   "metadata": {},
   "source": [
    "Now, the trick is to make it detect faces continuously and for that I'll just merge the two pieces of code:"
   ]
  },
  {
   "cell_type": "code",
   "execution_count": null,
   "id": "correct-morocco",
   "metadata": {},
   "outputs": [],
   "source": [
    "import time # load the time module; i'll use it here only for the sleep function\n",
    "import IPython # load the IPython modules; this gives access to low level Jupyter Notebook functions\n",
    "\n",
    "video = cv2.VideoCapture(0) # initialize the video capturing device\n",
    "try:\n",
    "    success = True # use this variable to check if the frame was captured successfully\n",
    "    while success: # loop until the device cannot capture a frame\n",
    "        success, frame = video.read() # read a frame\n",
    "        faces = detect_faces(frame)\n",
    "        if list(faces):\n",
    "            for x, y, w, h in faces:\n",
    "                cv2.rectangle(frame, (x, y), (x+w, y+h), (0, 255, 0), 2)\n",
    "        _, jpeg_image = cv2.imencode('.jpeg', frame) # encodes an image into a memory buffer\n",
    "        raw_image = IPython.display.Image(data = jpeg_image) # creates an IPython image given the raw data\n",
    "        IPython.display.clear_output(True) # clears the output of this cell, waiting until other data is available\n",
    "        IPython.display.display(raw_image) # display the IPython image into the notebook\n",
    "        time.sleep(0.2) # wait 0.2 seconds\n",
    "except KeyboardInterrupt: # if stop was pressed (or CTRL+C in the console)\n",
    "    pass # do nothing\n",
    "finally: # but anyway, if it was pressed or not\n",
    "    video.release() # release the video capturing device"
   ]
  },
  {
   "cell_type": "code",
   "execution_count": null,
   "id": "laden-tobacco",
   "metadata": {},
   "outputs": [],
   "source": [
    "import dlib\n",
    "detector = dlib.get_frontal_face_detector()\n",
    "\n",
    "def detect_faces(frame):\n",
    "    gray = cv2.cvtColor(frame, cv2.COLOR_BGR2GRAY) # convert the frame in gray-scale\n",
    "    faces = detector(gray)\n",
    "    return faces"
   ]
  },
  {
   "cell_type": "code",
   "execution_count": null,
   "id": "sexual-monster",
   "metadata": {},
   "outputs": [],
   "source": [
    "detect_faces(frame)"
   ]
  },
  {
   "cell_type": "code",
   "execution_count": null,
   "id": "fewer-vegetation",
   "metadata": {},
   "outputs": [],
   "source": [
    "!wget https://github.com/italojs/facial-landmarks-recognition/raw/master/shape_predictor_68_face_landmarks.dat"
   ]
  },
  {
   "cell_type": "code",
   "execution_count": null,
   "id": "hispanic-graham",
   "metadata": {},
   "outputs": [],
   "source": [
    "predictor = dlib.shape_predictor(\"shape_predictor_68_face_landmarks.dat\")"
   ]
  },
  {
   "cell_type": "code",
   "execution_count": null,
   "id": "elect-hawaii",
   "metadata": {},
   "outputs": [],
   "source": [
    "def detect_landmarks(frame):\n",
    "    detected = []\n",
    "    gray = cv2.cvtColor(frame, cv2.COLOR_BGR2GRAY)\n",
    "    for face in detect_faces(frame):\n",
    "        landmarks = predictor(image=gray, box=face)\n",
    "        detected.append((face, landmarks))\n",
    "    return detected"
   ]
  },
  {
   "cell_type": "code",
   "execution_count": null,
   "id": "established-postcard",
   "metadata": {},
   "outputs": [],
   "source": [
    "detected_landmarks = detect_landmarks(frame)"
   ]
  },
  {
   "cell_type": "code",
   "execution_count": null,
   "id": "defensive-hopkins",
   "metadata": {},
   "outputs": [],
   "source": [
    "output_image = cv2.cvtColor(frame.copy(), cv2.COLOR_BGR2RGB)\n",
    "for face, landmarks in detected_landmarks:\n",
    "    cv2.rectangle(output_image, (face.left(), face.top()), (face.right(), face.bottom()), (255, 0, 0), 2)\n",
    "    for landmark in landmarks.parts():\n",
    "        cv2.circle(output_image, (landmark.x, landmark.y), 2, (0, 255, 0), 2)\n",
    "plt.imshow(output_image)"
   ]
  },
  {
   "cell_type": "code",
   "execution_count": null,
   "id": "forty-range",
   "metadata": {},
   "outputs": [],
   "source": []
  }
 ],
 "metadata": {
  "kernelspec": {
   "display_name": "python-opencv",
   "language": "python",
   "name": "python-opencv"
  },
  "language_info": {
   "codemirror_mode": {
    "name": "ipython",
    "version": 3
   },
   "file_extension": ".py",
   "mimetype": "text/x-python",
   "name": "python",
   "nbconvert_exporter": "python",
   "pygments_lexer": "ipython3",
   "version": "3.7.3"
  }
 },
 "nbformat": 4,
 "nbformat_minor": 5
}
